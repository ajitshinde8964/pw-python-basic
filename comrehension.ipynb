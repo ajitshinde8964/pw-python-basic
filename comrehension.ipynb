{
 "cells": [
  {
   "cell_type": "code",
   "execution_count": 13,
   "id": "9012ebd7-63a3-4ba6-a1e8-a439d16e9c58",
   "metadata": {},
   "outputs": [],
   "source": [
    "#comprehension"
   ]
  },
  {
   "cell_type": "raw",
   "id": "1be89d25-02c6-4a01-951a-be7dbc88c4e9",
   "metadata": {},
   "source": [
    "# (list comprehension)squre"
   ]
  },
  {
   "cell_type": "code",
   "execution_count": 9,
   "id": "0a217fca-bbd2-449c-af0d-e09d9fe664f0",
   "metadata": {},
   "outputs": [],
   "source": [
    "l=[1,2,3,4,5,6,7,8,9]"
   ]
  },
  {
   "cell_type": "code",
   "execution_count": 10,
   "id": "11d4e9ad-f6e8-4e38-b796-6df971f31a26",
   "metadata": {},
   "outputs": [],
   "source": [
    "l=[1,2,3,4,5,6,7,8,9]\n",
    "l1=[]\n",
    "for i in l:\n",
    "    l1.append(i**2)\n",
    "    "
   ]
  },
  {
   "cell_type": "code",
   "execution_count": 11,
   "id": "0418914e-4df6-4b47-aaae-cf79af129882",
   "metadata": {},
   "outputs": [
    {
     "data": {
      "text/plain": [
       "[1, 4, 9, 16, 25, 36, 49, 64, 81]"
      ]
     },
     "execution_count": 11,
     "metadata": {},
     "output_type": "execute_result"
    }
   ],
   "source": [
    "l1"
   ]
  },
  {
   "cell_type": "code",
   "execution_count": 14,
   "id": "a6de3857-7b6b-45e3-b8fe-33b602276eef",
   "metadata": {},
   "outputs": [],
   "source": [
    "#comprehension squre"
   ]
  },
  {
   "cell_type": "code",
   "execution_count": 6,
   "id": "d0ebfaaf-a83a-4046-a1a9-d6d7a0b0820f",
   "metadata": {},
   "outputs": [
    {
     "data": {
      "text/plain": [
       "[1, 4, 9, 16, 25, 36, 49, 64, 81]"
      ]
     },
     "execution_count": 6,
     "metadata": {},
     "output_type": "execute_result"
    }
   ],
   "source": [
    "[i**2 for i in l]"
   ]
  },
  {
   "cell_type": "code",
   "execution_count": 12,
   "id": "46deacc6-db88-4dbe-a00e-7077132069ac",
   "metadata": {},
   "outputs": [],
   "source": [
    "#even no"
   ]
  },
  {
   "cell_type": "code",
   "execution_count": 7,
   "id": "7f3c61da-bd9d-41f2-8252-af45c50ba09a",
   "metadata": {},
   "outputs": [
    {
     "data": {
      "text/plain": [
       "[2, 4, 6, 8]"
      ]
     },
     "execution_count": 7,
     "metadata": {},
     "output_type": "execute_result"
    }
   ],
   "source": [
    "[i for i in l if i%2==0]"
   ]
  },
  {
   "cell_type": "code",
   "execution_count": 18,
   "id": "6ec77a4f-ec22-49bd-aee9-ea8047c7e573",
   "metadata": {},
   "outputs": [],
   "source": [
    "#uppercase"
   ]
  },
  {
   "cell_type": "code",
   "execution_count": 15,
   "id": "7da6751e-f790-42bf-81ff-c015efcd4219",
   "metadata": {},
   "outputs": [],
   "source": [
    "l1=[\"ajit\",'raj','kareena','karishma','rakul','pooja','ashwini']"
   ]
  },
  {
   "cell_type": "code",
   "execution_count": 17,
   "id": "ad56ee02-b48c-412d-8e3b-03da7adadda9",
   "metadata": {},
   "outputs": [
    {
     "data": {
      "text/plain": [
       "['AJIT', 'RAJ', 'KAREENA', 'KARISHMA', 'RAKUL', 'POOJA', 'ASHWINI']"
      ]
     },
     "execution_count": 17,
     "metadata": {},
     "output_type": "execute_result"
    }
   ],
   "source": [
    "[i.upper() for i in l1]"
   ]
  },
  {
   "cell_type": "code",
   "execution_count": 19,
   "id": "c8c16b22-a54a-4ce0-a846-6eb86dc936be",
   "metadata": {},
   "outputs": [],
   "source": [
    "#tuple squre in list"
   ]
  },
  {
   "cell_type": "code",
   "execution_count": 26,
   "id": "57393140-f42e-4c82-8144-62b988010985",
   "metadata": {},
   "outputs": [
    {
     "data": {
      "text/plain": [
       "[1, 2, 3, 4, 5, 6, 7, 8, 9]"
      ]
     },
     "execution_count": 26,
     "metadata": {},
     "output_type": "execute_result"
    }
   ],
   "source": [
    "l"
   ]
  },
  {
   "cell_type": "code",
   "execution_count": 25,
   "id": "c6c12c57-e536-45d2-bfe0-483f98a660f5",
   "metadata": {},
   "outputs": [
    {
     "data": {
      "text/plain": [
       "(1, 2, 3, 4, 5, 6, 7, 8, 9)"
      ]
     },
     "execution_count": 25,
     "metadata": {},
     "output_type": "execute_result"
    }
   ],
   "source": [
    "tuple(l)"
   ]
  },
  {
   "cell_type": "code",
   "execution_count": 24,
   "id": "6adc827d-6e22-493b-a41f-76d6616711da",
   "metadata": {},
   "outputs": [
    {
     "data": {
      "text/plain": [
       "[1, 4, 9, 16, 25, 36, 49, 64, 81]"
      ]
     },
     "execution_count": 24,
     "metadata": {},
     "output_type": "execute_result"
    }
   ],
   "source": [
    "list((i **2 for i in l))"
   ]
  },
  {
   "cell_type": "code",
   "execution_count": 33,
   "id": "c684bf99-e137-45d5-b0c7-dc16b6171b76",
   "metadata": {},
   "outputs": [],
   "source": [
    "#dictionarty squre of values"
   ]
  },
  {
   "cell_type": "code",
   "execution_count": 39,
   "id": "88ba6c73-46cd-4528-85e8-aac59b90c194",
   "metadata": {},
   "outputs": [],
   "source": [
    "d={'key1':1,'key2':2,'key3':3,'key4':4}"
   ]
  },
  {
   "cell_type": "code",
   "execution_count": 45,
   "id": "3d174322-ed73-4fd1-82af-c1de110cdbfc",
   "metadata": {},
   "outputs": [
    {
     "data": {
      "text/plain": [
       "{'key1': 1, 'key2': 2, 'key3': 3, 'key4': 4}"
      ]
     },
     "execution_count": 45,
     "metadata": {},
     "output_type": "execute_result"
    }
   ],
   "source": [
    "d"
   ]
  },
  {
   "cell_type": "code",
   "execution_count": 40,
   "id": "62a9e950-b42f-496c-9468-fdeac2cd66a8",
   "metadata": {},
   "outputs": [
    {
     "data": {
      "text/plain": [
       "dict_items([('key1', 1), ('key2', 2), ('key3', 3), ('key4', 4)])"
      ]
     },
     "execution_count": 40,
     "metadata": {},
     "output_type": "execute_result"
    }
   ],
   "source": [
    "d.items()"
   ]
  },
  {
   "cell_type": "code",
   "execution_count": 41,
   "id": "48c8aec1-8721-41aa-b56a-c26414502264",
   "metadata": {},
   "outputs": [
    {
     "data": {
      "text/plain": [
       "{'key1': 1, 'key2': 4, 'key3': 9, 'key4': 16}"
      ]
     },
     "execution_count": 41,
     "metadata": {},
     "output_type": "execute_result"
    }
   ],
   "source": [
    "{k:v**2 for k,v in d.items()}"
   ]
  },
  {
   "cell_type": "code",
   "execution_count": 50,
   "id": "7a62f5df-ce38-46f8-aadd-c6462215ccf1",
   "metadata": {},
   "outputs": [],
   "source": [
    "#output ,value greater than 1"
   ]
  },
  {
   "cell_type": "code",
   "execution_count": 51,
   "id": "2e0c558e-e563-41aa-9110-b5005a5076cc",
   "metadata": {},
   "outputs": [
    {
     "data": {
      "text/plain": [
       "{'key2': 2, 'key3': 3, 'key4': 4}"
      ]
     },
     "execution_count": 51,
     "metadata": {},
     "output_type": "execute_result"
    }
   ],
   "source": [
    "{k:v for k,v in d.items() if v>1}"
   ]
  },
  {
   "cell_type": "code",
   "execution_count": null,
   "id": "dd58c399-816d-4876-8137-9b41dad82911",
   "metadata": {},
   "outputs": [],
   "source": []
  }
 ],
 "metadata": {
  "kernelspec": {
   "display_name": "Python 3 (ipykernel)",
   "language": "python",
   "name": "python3"
  },
  "language_info": {
   "codemirror_mode": {
    "name": "ipython",
    "version": 3
   },
   "file_extension": ".py",
   "mimetype": "text/x-python",
   "name": "python",
   "nbconvert_exporter": "python",
   "pygments_lexer": "ipython3",
   "version": "3.10.8"
  }
 },
 "nbformat": 4,
 "nbformat_minor": 5
}
